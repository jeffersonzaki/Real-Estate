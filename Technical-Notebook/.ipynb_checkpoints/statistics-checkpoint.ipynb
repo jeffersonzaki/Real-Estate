{
 "cells": [
  {
   "cell_type": "code",
   "execution_count": 17,
   "metadata": {},
   "outputs": [],
   "source": [
    "import pandas as pd\n",
    "import numpy as np\n",
    "import scipy.stats as stats\n",
    "import seaborn as sns\n",
    "import matplotlib.pyplot as plt\n",
    "\n",
    "from functions import *"
   ]
  },
  {
   "cell_type": "markdown",
   "metadata": {},
   "source": [
    "# Hypothesis Testing\n",
    "Note: alpha is 0.05"
   ]
  },
  {
   "cell_type": "markdown",
   "metadata": {},
   "source": [
    "## Questions\n",
    "\n",
    "1. Is there a difference in mean price between waterfront properties and properties that do not have a waterfront\n",
    "\n",
    "2. Is there a difference between mean price betweeen properties that have 1 floor or 2 floors\n",
    "\n",
    "3. Is there a difference between mean price between properties that have less than or equal to 2 bathrooms and properites that have more than or equal to 2 bathrooms"
   ]
  },
  {
   "cell_type": "markdown",
   "metadata": {},
   "source": [
    "## Question 1\n",
    "### Null Hypothesis\n",
    "- There is no difference in mean price between waterfront properties and properties that do not have a waterfront\n",
    "\n",
    "### Alternative Hypothesis\n",
    "- There is a difference in mean price between waterfront properties and properties that do not have a waterfront"
   ]
  },
  {
   "cell_type": "markdown",
   "metadata": {},
   "source": [
    "### Mean, Standard Deviation, and sample size"
   ]
  },
  {
   "cell_type": "code",
   "execution_count": 18,
   "metadata": {},
   "outputs": [],
   "source": [
    "# Finding the mean(x_bar) price of houses with waterfronts\n",
    "waterfront1_x_bar = waterfront1.price.mean()\n",
    "\n",
    "# Standard deviation of price of houses with waterfronts\n",
    "waterfront1_std = waterfront1.price.std()\n",
    "\n",
    "# Sample size(n)\n",
    "n1 = len(waterfront1.price)"
   ]
  },
  {
   "cell_type": "code",
   "execution_count": 19,
   "metadata": {},
   "outputs": [
    {
     "data": {
      "text/plain": [
       "1717214.7260273972"
      ]
     },
     "metadata": {},
     "output_type": "display_data"
    },
    {
     "data": {
      "text/plain": [
       "1145384.8566607886"
      ]
     },
     "metadata": {},
     "output_type": "display_data"
    },
    {
     "data": {
      "text/plain": [
       "146"
      ]
     },
     "metadata": {},
     "output_type": "display_data"
    }
   ],
   "source": [
    "display(waterfront1_x_bar)\n",
    "display(waterfront1_std)\n",
    "display(n1)"
   ]
  },
  {
   "cell_type": "code",
   "execution_count": 20,
   "metadata": {},
   "outputs": [],
   "source": [
    "# Finding the sample mean(x_bar) price of houses without waterfronts\n",
    "waterfront0_x_bar = waterfront0.price.mean()\n",
    "\n",
    "# Standard deviation of price of houses without waterfronts\n",
    "waterfront0_std = waterfront0.price.std()\n",
    "\n",
    "# Sample size(n)\n",
    "n0 = len(waterfront0.price)"
   ]
  },
  {
   "cell_type": "code",
   "execution_count": 21,
   "metadata": {},
   "outputs": [
    {
     "data": {
      "text/plain": [
       "532641.9866841416"
      ]
     },
     "metadata": {},
     "output_type": "display_data"
    },
    {
     "data": {
      "text/plain": [
       "344959.17804252123"
      ]
     },
     "metadata": {},
     "output_type": "display_data"
    },
    {
     "data": {
      "text/plain": [
       "19075"
      ]
     },
     "metadata": {},
     "output_type": "display_data"
    }
   ],
   "source": [
    "display(waterfront0_x_bar)\n",
    "display(waterfront0_std)\n",
    "display(n0)"
   ]
  },
  {
   "cell_type": "markdown",
   "metadata": {},
   "source": [
    "## Welch Test for waterfronts"
   ]
  },
  {
   "cell_type": "code",
   "execution_count": 22,
   "metadata": {},
   "outputs": [
    {
     "data": {
      "text/plain": [
       "Ttest_indResult(statistic=-12.49211636457615, pvalue=8.884446617665905e-25)"
      ]
     },
     "execution_count": 22,
     "metadata": {},
     "output_type": "execute_result"
    }
   ],
   "source": [
    "# Performing a welch's t-test to compare properties with and without waterfronts\n",
    "waterfront_ttest = stats.ttest_ind(waterfront0.price, waterfront1.price, equal_var=False)\n",
    "waterfront_ttest"
   ]
  },
  {
   "cell_type": "markdown",
   "metadata": {},
   "source": [
    "### Visualization for waterfronts"
   ]
  },
  {
   "cell_type": "code",
   "execution_count": 41,
   "metadata": {},
   "outputs": [
    {
     "data": {
      "image/png": "[encoded data removed]",
      "text/plain": [
       "<Figure size 720x648 with 1 Axes>"
      ]
     },
     "metadata": {
      "needs_background": "light"
     },
     "output_type": "display_data"
    }
   ],
   "source": [
    "plt.figure(figsize=(10, 9))  # Figure size\n",
    "# Distribution plots\n",
    "sns.distplot(waterfront0.price, label=\"Properties without waterfront\")\n",
    "sns.distplot(waterfront1.price, label=\"Properties with waterfront\")\n",
    "\n",
    "# Labels\n",
    "plt.title(\"Price comparison between properties with or without waterfront\")\n",
    "plt.yticks(ticks=None)\n",
    "ax = plt.gca()\n",
    "ax.set_yticks([])\n",
    "\n",
    "plt.legend()\n",
    "plt.show()"
   ]
  },
  {
   "cell_type": "markdown",
   "metadata": {},
   "source": [
    "## Question 2\n",
    "\n",
    "## Null Hypothesis\n",
    "- There is no difference between mean price between properties that have 1 floor or 2 floors\n",
    "\n",
    "## Alternative Hypothesis\n",
    "- There is a difference between mean price between properties that have 1 floor or 2 floors"
   ]
  },
  {
   "cell_type": "code",
   "execution_count": 24,
   "metadata": {},
   "outputs": [],
   "source": [
    "# Finding the sample mean(x_bar) price of houses with 1 floor\n",
    "floor1_x_bar = floor1.price.mean()\n",
    "\n",
    "# Standard deviation of price of houses with 1 floor\n",
    "floor1_std = floor1.price.std()\n",
    "\n",
    "# Sample size(n)\n",
    "floor1_n = len(floor1.price)"
   ]
  },
  {
   "cell_type": "code",
   "execution_count": 25,
   "metadata": {},
   "outputs": [],
   "source": [
    "# Finding the sample mean(x_bar) price of houses with 2 floors\n",
    "floor2_x_bar = floor2.price.mean()\n",
    "\n",
    "# Standard deviation of price of houses with 2 floors\n",
    "floor2_std = floor2.price.std()\n",
    "\n",
    "# Sample size(n)\n",
    "floor2_n = len(floor2.price)"
   ]
  },
  {
   "cell_type": "code",
   "execution_count": 26,
   "metadata": {},
   "outputs": [
    {
     "data": {
      "text/plain": [
       "442125.89803012746"
      ]
     },
     "metadata": {},
     "output_type": "display_data"
    },
    {
     "data": {
      "text/plain": [
       "264512.77275738335"
      ]
     },
     "metadata": {},
     "output_type": "display_data"
    },
    {
     "data": {
      "text/plain": [
       "9493"
      ]
     },
     "metadata": {},
     "output_type": "display_data"
    }
   ],
   "source": [
    "display(floor1_x_bar)\n",
    "display(floor1_std)\n",
    "display(floor1_n)"
   ]
  },
  {
   "cell_type": "code",
   "execution_count": 27,
   "metadata": {},
   "outputs": [
    {
     "data": {
      "text/plain": [
       "651655.8519727892"
      ]
     },
     "metadata": {},
     "output_type": "display_data"
    },
    {
     "data": {
      "text/plain": [
       "441150.60380604985"
      ]
     },
     "metadata": {},
     "output_type": "display_data"
    },
    {
     "data": {
      "text/plain": [
       "7350"
      ]
     },
     "metadata": {},
     "output_type": "display_data"
    }
   ],
   "source": [
    "display(floor2_x_bar)\n",
    "display(floor2_std)\n",
    "display(floor2_n)"
   ]
  },
  {
   "cell_type": "code",
   "execution_count": 28,
   "metadata": {},
   "outputs": [
    {
     "data": {
      "text/plain": [
       "Ttest_indResult(statistic=-36.0144424671913, pvalue=5.1017287178917514e-269)"
      ]
     },
     "execution_count": 28,
     "metadata": {},
     "output_type": "execute_result"
    }
   ],
   "source": [
    "# Performing Welch's t-test for comparing houses that have 1 and 2 floors\n",
    "floor_ttest = stats.ttest_ind(floor1.price, floor2.price, equal_var=False)\n",
    "floor_ttest"
   ]
  },
  {
   "cell_type": "markdown",
   "metadata": {},
   "source": [
    "### Visualization for floors"
   ]
  },
  {
   "cell_type": "code",
   "execution_count": 42,
   "metadata": {},
   "outputs": [
    {
     "data": {
      "image/png": "[encoded data removed]",
      "text/plain": [
       "<Figure size 720x648 with 1 Axes>"
      ]
     },
     "metadata": {
      "needs_background": "light"
     },
     "output_type": "display_data"
    }
   ],
   "source": [
    "plt.figure(figsize=(10, 9))  # Figure size\n",
    "# Distribution plots\n",
    "sns.distplot(floor1.price, label=\"floor 1\")\n",
    "sns.distplot(floor2.price, label=\"floor 2\")\n",
    "\n",
    "# Labels\n",
    "plt.title(\"Price comparison between properties with 1 or 2 floors\")\n",
    "ax = plt.gca()\n",
    "ax.set_yticks([])\n",
    "\n",
    "plt.legend()\n",
    "plt.show()"
   ]
  },
  {
   "cell_type": "markdown",
   "metadata": {},
   "source": [
    "## Question 3\n",
    "\n",
    "### Null Hypothesis\n",
    "- There is no difference between mean price between properties that have less than or equal to 2 bathrooms and properties that have more than or equal to 2 bathrooms\n",
    "\n",
    "### Alternative Hypothesis\n",
    "- There is a difference between mean price between properties that have less than or equal to 2 bathrooms and properties that have more than or equal to 2 bathrooms"
   ]
  },
  {
   "cell_type": "code",
   "execution_count": 30,
   "metadata": {},
   "outputs": [],
   "source": [
    "# Finding the sample mean(x_bar) price of houses that are less than or equal to 2 bathrooms\n",
    "bathrooms_more_than_2_x_bar = bathrooms_more_than_2.price.mean()\n",
    "\n",
    "# Standard deviation of price of houses that are less than or equal to 2 bathrooms\n",
    "bathrooms_more_than_2_std = bathrooms_more_than_2.price.std()\n",
    "\n",
    "# Sample size(n)\n",
    "bathrooms_more_than_2_n = len(floor2.price)"
   ]
  },
  {
   "cell_type": "code",
   "execution_count": 31,
   "metadata": {},
   "outputs": [],
   "source": [
    "# Finding the sample mean(x_bar) price of houses that are less than or equal to 2 bathrooms\n",
    "bathrooms_less_and_2_x_bar = bathrooms_less_and_2.price.mean()\n",
    "\n",
    "# Standard deviation of price of houses that are less than or equal to 2 bathrooms\n",
    "bathrooms_less_and_2_std = bathrooms_less_and_2.price.std()\n",
    "\n",
    "# Sample size(n)\n",
    "bathrooms_less_and_2_n = len(bathrooms_less_and_2.price)"
   ]
  },
  {
   "cell_type": "code",
   "execution_count": 32,
   "metadata": {},
   "outputs": [
    {
     "data": {
      "text/plain": [
       "Ttest_indResult(statistic=-52.21637628951914, pvalue=0.0)"
      ]
     },
     "execution_count": 32,
     "metadata": {},
     "output_type": "execute_result"
    }
   ],
   "source": [
    "bathroom_ttest = stats.ttest_ind(bathrooms_less_and_2.price, bathrooms_more_than_2.price, equal_var=False)\n",
    "bathroom_ttest"
   ]
  },
  {
   "cell_type": "markdown",
   "metadata": {},
   "source": [
    "### Visualization for Bathrooms"
   ]
  },
  {
   "cell_type": "code",
   "execution_count": 44,
   "metadata": {},
   "outputs": [
    {
     "data": {
      "image/png": "[encoded data removed]",
      "text/plain": [
       "<Figure size 720x648 with 1 Axes>"
      ]
     },
     "metadata": {
      "needs_background": "light"
     },
     "output_type": "display_data"
    }
   ],
   "source": [
    "plt.figure(figsize=(10, 9))  # Figure size\n",
    "# Distribution plots\n",
    "sns.distplot(bathrooms_less_and_2.price, label=\"Less than 2\")\n",
    "sns.distplot(bathrooms_more_than_2.price, label=\"More than 2\")\n",
    "\n",
    "# Labels\n",
    "plt.title(\"Price comparison between properties with more or less than 2 bathrooms\")\n",
    "ax = plt.gca()\n",
    "ax.set_yticks([])\n",
    "\n",
    "plt.legend()\n",
    "plt.show()"
   ]
  }
 ],
 "metadata": {
  "kernelspec": {
   "display_name": "Python 3",
   "language": "python",
   "name": "python3"
  },
  "language_info": {
   "codemirror_mode": {
    "name": "ipython",
    "version": 3
   },
   "file_extension": ".py",
   "mimetype": "text/x-python",
   "name": "python",
   "nbconvert_exporter": "python",
   "pygments_lexer": "ipython3",
   "version": "3.8.1"
  }
 },
 "nbformat": 4,
 "nbformat_minor": 4
}
